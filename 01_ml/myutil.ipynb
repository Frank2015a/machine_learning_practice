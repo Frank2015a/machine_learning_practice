{
 "cells": [
  {
   "cell_type": "code",
   "execution_count": 1,
   "metadata": {},
   "outputs": [],
   "source": [
    "# this is my util"
   ]
  },
  {
   "cell_type": "code",
   "execution_count": 9,
   "metadata": {},
   "outputs": [],
   "source": [
    "from contextlib import contextmanager\n",
    "import time\n",
    "import json\n",
    "import requests\n",
    "import socket\n",
    "import sys\n",
    "import os"
   ]
  },
  {
   "cell_type": "code",
   "execution_count": 17,
   "metadata": {},
   "outputs": [],
   "source": [
    "# os.system('jupyter nbconvert --to script myutil.ipynb')"
   ]
  },
  {
   "cell_type": "markdown",
   "metadata": {},
   "source": [
    "# my context"
   ]
  },
  {
   "cell_type": "code",
   "execution_count": 3,
   "metadata": {},
   "outputs": [],
   "source": [
    "@contextmanager\n",
    "def gc2():\n",
    "    gc.enable()\n",
    "    yield\n",
    "    gc.collect()"
   ]
  },
  {
   "cell_type": "code",
   "execution_count": 4,
   "metadata": {},
   "outputs": [],
   "source": [
    "@contextmanager\n",
    "def timer(title='do'):\n",
    "    t0 = time.time()\n",
    "    yield\n",
    "    print(\"{} - done in {:.4f}s\".format(title, time.time() - t0))"
   ]
  },
  {
   "cell_type": "markdown",
   "metadata": {},
   "source": [
    "# messange"
   ]
  },
  {
   "cell_type": "code",
   "execution_count": 5,
   "metadata": {},
   "outputs": [],
   "source": [
    "token = \"130fe712252513ab163f9453dbe9bdc9efca01eb3a7f1def85a5f6d89dc7c358\"\n",
    "phones = [17621684529]\n",
    "# def bot(message, phones=phones, token=token):\n",
    "def ding(message):\n",
    "    url = 'https://oapi.dingtalk.com/robot/send'\n",
    "    params = { 'access_token': token }\n",
    "    headers = { 'Content-Type': 'application/json' }\n",
    "    data = json.dumps({\n",
    "        \"msgtype\": \"text\",\n",
    "        \"text\": {\n",
    "            \"content\": message + \"\\n\" +\n",
    "                       time.strftime('%Y/%m/%d %H:%M:%S') + \"\\n\" +\n",
    "                       socket.gethostname()},\n",
    "        \"at\": {\"atMobiles\": phones},\n",
    "    })\n",
    "    return requests.post(url, headers=headers, params=params, data=data)"
   ]
  },
  {
   "cell_type": "markdown",
   "metadata": {},
   "source": [
    "# df2md\n",
    "\n",
    "将df表格按markdown打印出来。"
   ]
  },
  {
   "cell_type": "code",
   "execution_count": 3,
   "metadata": {},
   "outputs": [],
   "source": [
    "from tabulate import tabulate\n",
    "\n",
    "def df2md(df):\n",
    "    print(tabulate(df, tablefmt=\"pipe\", headers=\"keys\"))"
   ]
  },
  {
   "cell_type": "markdown",
   "metadata": {},
   "source": [
    "# df 数据处理"
   ]
  },
  {
   "cell_type": "code",
   "execution_count": 4,
   "metadata": {},
   "outputs": [],
   "source": [
    "def df_null_stat(df, thres_null=0.5):\n",
    "    \"\"\"\n",
    "    args:\n",
    "        - df\n",
    "        - thres_null, thres to filter cols to drop\n",
    "    return:\n",
    "        - df_null, df of null ratios \n",
    "        - cols_drop, cols pass thres\n",
    "    useage:\n",
    "    df_null, col_drop = df_null_stat(df, 0.5)\n",
    "    df.drop(columns=col_drop, axis=1,inplace=True)\n",
    "    \"\"\"    \n",
    "    df_null = pd.DataFrame(df.isnull().sum() / df.shape[0])\n",
    "    df_null.rename(columns={0:'null_ratio'}, inplace=True);\n",
    "    df_null = df_null.sort_values(by='null_ratio', ascending=False)\n",
    "    \n",
    "    num_null = df_null[df_null.null_ratio > thres_null].shape[0]\n",
    "    print('num of col null ratio>{}: {}'.format(thres_null, num_null))\n",
    "    cols_drop = list(df_null[df_null.null_ratio > thres_null].index)\n",
    "\n",
    "    return df_null, cols_drop"
   ]
  },
  {
   "cell_type": "code",
   "execution_count": null,
   "metadata": {},
   "outputs": [],
   "source": []
  },
  {
   "cell_type": "code",
   "execution_count": null,
   "metadata": {},
   "outputs": [],
   "source": []
  }
 ],
 "metadata": {
  "kernelspec": {
   "display_name": "Python 3",
   "language": "python",
   "name": "python3"
  },
  "language_info": {
   "codemirror_mode": {
    "name": "ipython",
    "version": 3
   },
   "file_extension": ".py",
   "mimetype": "text/x-python",
   "name": "python",
   "nbconvert_exporter": "python",
   "pygments_lexer": "ipython3",
   "version": "3.7.3"
  }
 },
 "nbformat": 4,
 "nbformat_minor": 2
}
