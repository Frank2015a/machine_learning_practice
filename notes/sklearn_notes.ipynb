{
 "cells": [
  {
   "cell_type": "markdown",
   "metadata": {},
   "source": [
    "# 各种常用sklearn算法实践特性分析"
   ]
  },
  {
   "cell_type": "code",
   "execution_count": null,
   "metadata": {},
   "outputs": [],
   "source": []
  },
  {
   "cell_type": "markdown",
   "metadata": {},
   "source": [
    "# 算法综合比较\n",
    "\n",
    "在实际的应用中，数据必然存在大量的缺失值，因此能否处理缺失值，是算法可应用性的关键。\n",
    "\n",
    "LGB、XGB可以自动处理缺失值，并把缺失值转化成特征。\n",
    "\n",
    "其他的算法处理缺失值能力都不强：\n",
    "\n",
    "- lr\n",
    "- mlp\n",
    "mlp的输入必须是数值型的，因此很不适合。\n",
    "\n",
    "\n",
    "实际问题中，\n",
    "\n",
    "- 要么数据少，可提取的信息太少\n",
    "- 要么数据太大，且前后分布有漂移，要避免过拟合\n",
    "\n",
    "因此，好的算法应该既能在数据量少的时候保持基本的性能，又能在数据量大的时候避免过拟合。\n",
    "LGB在这两方面都是很好的。\n",
    "\n"
   ]
  },
  {
   "cell_type": "markdown",
   "metadata": {},
   "source": [
    "# 1. LR\n",
    "\n",
    "## 特点分析\n",
    "\n",
    "- 优点：\n",
    "    - 实现简单，需要配置的超参数少\n",
    "    - 训练速度快，支持多线程\n",
    "- 缺点：\n",
    "    - 模型的复杂度低，且无法通过超参数增大复杂度\n",
    "    - 对复杂的分类问题，很难达到非常高的分类性能\n",
    "    \n",
    "LR非常适合在不做任何配置的情况下做**baseline**，其他的复杂模型与LR baseline性能相比的增益才是有意义的。 \n",
    "\n",
    "## solver选择\n",
    "\n",
    "LR默认的优化求解器，不适用于大数据集，需要手动设置为solver='lbfgs'。\n",
    "不同solver的速度差别：\n",
    "\n",
    "- Liblinear，当前的默认solver，不支持多线程\n",
    "- lbfgs，后续版本的默认solver\n",
    "\n",
    "|训练数据量| Liblinear  | lbfgs |\n",
    "|--|--|--|\n",
    "| 1w | 6.97 | 9.3 |\n",
    "|10w| 105s | 7.8s|\n",
    "\n",
    "在数据量小的时候，可以使用默认的Liblinear，一旦数据量增大，必须切换到lbfgs，才能快速求解。\n",
    "\n"
   ]
  },
  {
   "cell_type": "code",
   "execution_count": null,
   "metadata": {},
   "outputs": [],
   "source": [
    "from sklearn.linear_model import LogisticRegression\n",
    "clf_lr = LogisticRegression(random_state = 0, verbose=1, solver='lbfgs', n_jobs=-1)"
   ]
  },
  {
   "cell_type": "code",
   "execution_count": null,
   "metadata": {},
   "outputs": [],
   "source": []
  },
  {
   "cell_type": "markdown",
   "metadata": {},
   "source": [
    "# LightGBM\n",
    "\n",
    "\n",
    "优点：\n",
    "\n",
    "- 自动处理null，归一化，很多情况下比手动处理的更好\n",
    "不用手动进行One-hot编码\n",
    "- 速度和内存使用的优化\n",
    "- 并行支持GPU\n",
    "- 通过subsample下采样，降低过拟合\n",
    "\n",
    "## FeaturesBundling\n",
    "\n",
    "稀疏数据存在大量0值或者空值，从特征组合的角度来看，稀疏意味着某些features不会同时出现。\n",
    "\n",
    "> ome features are never non-zero together. \n",
    "For instance, the words “Python” and “protein” might never appear in the same document in the data. \n",
    "\n",
    "这意味着多个特征可以Bundling成为一个特征，且不损失信息。\n",
    "\n",
    "具体的实现没有说明。\n"
   ]
  },
  {
   "cell_type": "code",
   "execution_count": null,
   "metadata": {},
   "outputs": [],
   "source": [
    "dtrain = lgb.Dataset(X_train, label=Y_train)\n",
    "dtest = lgb.Dataset(X_test, label=Y_test)\n",
    "params = {\n",
    "    'boosting_type': 'gbdt',\n",
    "    'objective': 'binary',   # 二分类\n",
    "    'metric': 'auc',         # auc, binary_loss, cross_entropy\n",
    "    'min_child_weight': 1.5, # 避免过拟合\n",
    "    'num_leaves': 2 ** 5,    # 32\n",
    "    'lambda_l2': 10,         # 正则化系数\n",
    "    'subsample': 0.85,       # 降采样\n",
    "    'learning_rate': 0.1,\n",
    "    'seed': 2018,\n",
    "    'boosting': 'dart',     # Better Accuracy,Dropouts meet Multiple Additive Regression Trees\n",
    "    'colsample_bytree': 0.5, # 特征降采样\n",
    "    'save_binary': True,     # binary IO faster\n",
    "    'nthread': -1            # 多进程并行\n",
    "}\n",
    "model = lgb.train(params, dtrain, \n",
    "                  num_boost_round=2000, \n",
    "                  valid_sets=dtest, \n",
    "                  early_stopping_rounds=50,\n",
    "                  verbose_eval=200)\n",
    "#y_pred_prob = model.predict(X_test)\n",
    "y_pred_prob = model.predict_proba(X_test)"
   ]
  },
  {
   "cell_type": "markdown",
   "metadata": {},
   "source": [
    "\n",
    "\n",
    "http://mlexplained.com/2018/01/05/lightgbm-and-xgboost-explained/\n",
    "\n",
    "LGB和XGB的实现机制：\n",
    "\n",
    "- 决策树采用leaf-wise生长策略\n",
    "Level-wise策略下，决策树是平衡的；leaf-wise的决策树不要求枝叶平衡，只关注loss最小。\n",
    "leaf-wise more prone to overfitting but is more flexible，对于大数据集是更合适的。\n",
    "- 采用直方图（Histogram）训练\n",
    "即训练采用的不是原始的数据，而是切分bin之后的直方图，原理在于：\n",
    "> small changes in the split don’t make much of a difference in the performance\n",
    "\n",
    "即放弃了绝对精确的划分，追求速度上的平衡。\n",
    "- 稀疏数据处理Ignoring sparse inputs\n",
    "由于系数数据中存在大量的0 feature，在计算split的时候，不考虑0 features；\n",
    "在找到split之后，再将0 features划分到使得loss更小的一侧。此为一种有效的简化处理。\n",
    "- Subsampling数据下采样\n",
    "既有在row层面的下采样，也有在feature col的下采样。\n",
    "隐含的原理是，不同的数据、特征对模型的贡献不同的。例如梯度变化越大的特征，区分度可能越高，反之越低。\n",
    "> not all data points contribute equally to training\n",
    "- FeaturesBundling\n",
    "考虑了稀疏特征的组合特性，具体是实现不详。\n",
    "\n",
    "启示：\n",
    "\n",
    "- 采用XGB和LGB足够了，没有必要再用原生的GBDT做对比。\n",
    "- 调参可以考虑从这些角度来提升模型的性能\n"
   ]
  },
  {
   "cell_type": "code",
   "execution_count": null,
   "metadata": {},
   "outputs": [],
   "source": []
  },
  {
   "cell_type": "markdown",
   "metadata": {},
   "source": [
    "# 交叉验证方法\n",
    "\n",
    "K折交叉验证的优势：\n",
    "\n",
    "- 在没有测试集GT的情况下，可以更准确地评估模型的性能\n",
    "- 避免手动切分训练集和验证集，造成对训练集过拟合\n",
    "- 对k折的test predict结果去平均作为最终输出\n",
    "\n",
    "实现方式：\n",
    "\n",
    "- 用`KFold`划分训练集和验证集的index，手动写循环\n",
    "可以在循环中依次predict test结果，得到均值作为输出\n",
    "- 如果只需要模型在验证集上的score，可以直接用cross_val_score实现"
   ]
  },
  {
   "cell_type": "code",
   "execution_count": null,
   "metadata": {},
   "outputs": [],
   "source": [
    "# KFold实现\n",
    "from sklearn.model_selection import KFold\n",
    "from sklearn.metrics import roc_auc_score\n",
    "# Create the kfold object\n",
    "k_fold = KFold(n_splits = 3, shuffle = True, random_state = 50)\n",
    "\n",
    "def run_cv(clf):\n",
    "    '''\n",
    "    - clf，典型的sklearn分类器，具有fit/predict_proba 方法\n",
    "    - submission，输出的k折平均的测试集结果\n",
    "    '''\n",
    "    # 用于记录各轮的测试集分数,验证集score\n",
    "    test_prob = np.zeros(test_fill.shape[0])\n",
    "    val_scores = []\n",
    "    \n",
    "    for idx_train, idx_val in k_fold.split(train):\n",
    "        X_train, y_train = train[idx_train], train_labels[idx_train]\n",
    "        X_val, y_val = train[idx_val], train_labels[idx_val]\n",
    "        clf.fit(X_train, y_train)\n",
    "        val_score = roc_auc_score(y_val, clf.predict_proba(X_val)[:, 1])\n",
    "        val_scores.append(val_score)\n",
    "        test_prob += model.predict_proba(test_data)[:, 1] / k_fold.n_splits\n",
    "\n",
    "    submission = pd.DataFrame({'ID': test_ids, 'TARGET': test_prob})\n",
    "    print('mean val score: {}'.format(np.mean(val_scores)))\n",
    "    return submission\n",
    "\n",
    "submission = run_cv(clf)\n",
    "\n",
    "# 用StratifiedKFold 实现\n",
    "from sklearn.model_selection import StratifiedKFold\n",
    "kfold = StratifiedKFold(n_splits=10,\n",
    "                        random_state=1).split(X_train, y_train)\n",
    "scores = []\n",
    "for k, (train, test) in enumerate(kfold):\n",
    "    pipe_lr.fit(X_train[train], y_train[train])\n",
    "    score = pipe_lr.score(X_train[test], y_train[test])\n",
    "    \n"
   ]
  },
  {
   "cell_type": "code",
   "execution_count": null,
   "metadata": {},
   "outputs": [],
   "source": [
    "from sklearn.model_selection import cross_val_score\n",
    "\n",
    "scores = cross_val_score(estimator=pipe_lr,\n",
    "                         X=X_train,\n",
    "                         y=y_train,\n",
    "                         cv=10,\n",
    "                         n_jobs=1)\n",
    "# 返回的 scores 是各类val分数的list\n",
    "print('CV accuracy: %.3f +/- %.3f' % (np.mean(scores), np.std(scores)))"
   ]
  },
  {
   "cell_type": "markdown",
   "metadata": {},
   "source": [
    "# Baseline 性能对比\n",
    "\n",
    "HomeCredit，用特征工程之后的数据，评测lgb最优模型与其他baseline分类器的性能差异。\n",
    "\n",
    "数据说明：\n",
    "\n",
    "- data_fe，特征工程生成的数据\n",
    "- data_fill，填充null，处理极大值之后的数据\n",
    "\n",
    "由于LGB可以直接输入带null的数据，而其他分类器需要对填充null，故统一用填充处理后的data_fill评测。\n",
    "\n",
    "评测结果：各个分类器的auc指标很低，最高仅为0.584。而使用data_fe训练的val auc在0.78。\n",
    "\n",
    "|    clf      |   test_score |   val_score |\n",
    "|:------------|-------------:|------------:|\n",
    "| lgbm_tune   |    nan       |    0.58447  |\n",
    "| lgbm_base   |    nan       |    0.5642   |\n",
    "| xgb         |    nan       |    0.54     |\n",
    "| lr_baseline |      0.54191 |    0.516605 |\n",
    "| mlp_32      |      0.5284  |    0.5142   |\n",
    "\n",
    "\n",
    "观点：\n",
    "\n",
    "- 强制imputer可能给数据带来了不利的噪音，例如大量的null用median填充，对于null比例很高的col，不合理\n",
    "- 总体上，lgb的学习能力是强于其他model。\n",
    "\n",
    "数据imputer的方法如下："
   ]
  },
  {
   "cell_type": "code",
   "execution_count": null,
   "metadata": {},
   "outputs": [],
   "source": [
    "def impute_inf(df_data):\n",
    "    imputer = Imputer(strategy = 'median')\n",
    "    # replace inf as nan\n",
    "    df_data.replace([np.inf, -np.inf], np.nan, inplace=True)\n",
    "    # impute nan to median\n",
    "    df_data = imputer.fit_transform(df_data)\n",
    "    return df_data\n",
    "\n",
    "train_fill = impute_inf(train)"
   ]
  },
  {
   "cell_type": "markdown",
   "metadata": {},
   "source": [
    "# lgb\n",
    "\n",
    "lgb对nan数据处理的机制是什么\n",
    "\n"
   ]
  },
  {
   "cell_type": "code",
   "execution_count": null,
   "metadata": {},
   "outputs": [],
   "source": []
  },
  {
   "cell_type": "code",
   "execution_count": null,
   "metadata": {},
   "outputs": [],
   "source": []
  },
  {
   "cell_type": "markdown",
   "metadata": {},
   "source": [
    "- 确认LGB对nan数据的处理方法\n",
    "- 验证数据归一化是否为影响指标的主要因素\n",
    "- GBDT方法在预测阶段如何处理残差"
   ]
  },
  {
   "cell_type": "code",
   "execution_count": null,
   "metadata": {},
   "outputs": [],
   "source": []
  },
  {
   "cell_type": "markdown",
   "metadata": {},
   "source": [
    "# LGB对Missing Value的处理方法\n",
    "\n",
    "tabular data是向量化的，必然存在大量的缺失值，是稀疏的。\n",
    "尤其在featuresTools跨表格生成特征之后，必然伴随着大量的缺失值。\n",
    "\n",
    "LGB和XGB对缺失值的处理方法是一致的：\n",
    "\n",
    "- LGB默认use_missing=True（把缺失值当做0处理）\n",
    "- 在计算split的时候，不考虑0 features\n",
    "- 在找到split之后，再将0 features划分到使得loss更小的一侧\n",
    "> then allocating all the data with missing values to whichever side of the split reduces the loss more.\n",
    "\n",
    "参考：http://mlexplained.com/2018/01/05/lightgbm-and-xgboost-explained/\n",
    "\n",
    "LGB处理缺失值的规则：\n",
    "\n",
    "- 默认use_missing=True处理缺失值，可以通过设置use_missing = false 来使其无效。\n",
    "- 默认的方式用NA（NaN）去表示缺失值\n",
    "    - 当设置zero_as_missing = false（默认）时，在稀疏矩阵里（和lightSVM），没有显示的值视为0\n",
    "    - 当设置zero_as_missing = true时，NA和0（包括在稀疏矩阵里，没有显示的值）视为缺失。\n",
    "参考：https://github.com/Microsoft/LightGBM/blob/master/docs/Advanced-Topics.rst\n",
    "\n",
    "\n",
    "总结：在XGB和LGB中，缺失值本身可以可以作为特征的一部分。手动imputer反而可能影响性能。"
   ]
  },
  {
   "cell_type": "code",
   "execution_count": null,
   "metadata": {},
   "outputs": [],
   "source": []
  },
  {
   "cell_type": "markdown",
   "metadata": {},
   "source": [
    "# Grid Search\n",
    "\n",
    "**GridSearchCV**\n",
    "\n",
    "注意：\n",
    "\n",
    "- 可配置的参数获取\n",
    "`pipe_svc.get_params`\n",
    "- scoring='accuracy'\n",
    "其他可用的score参见：https://scikit-learn.org/stable/modules/model_evaluation.html#scoring-parameter\n",
    "分类任务常用的有：accuracy/f1/roc_auc\n",
    "- `clf = gs.best_estimator_` 得到调参的最优模型\n"
   ]
  },
  {
   "cell_type": "code",
   "execution_count": null,
   "metadata": {},
   "outputs": [],
   "source": [
    "from sklearn.model_selection import GridSearchCV\n",
    "from sklearn.svm import SVC\n",
    "\n",
    "pipe_svc = make_pipeline(StandardScaler(),\n",
    "                         SVC(random_state=1))\n",
    "\n",
    "param_range = [0.0001, 0.001, 0.01, 0.1, 1.0, 10.0, 100.0, 1000.0]\n",
    "\n",
    "param_grid = [{'svc__C': param_range, \n",
    "               'svc__kernel': ['linear']},\n",
    "              {'svc__C': param_range, \n",
    "               'svc__gamma': param_range, \n",
    "               'svc__kernel': ['rbf']}]\n",
    "\n",
    "gs = GridSearchCV(estimator=pipe_svc, \n",
    "                  param_grid=param_grid, \n",
    "                  scoring='accuracy', \n",
    "                  cv=10,\n",
    "                  n_jobs=-1)\n",
    "gs = gs.fit(X_train, y_train)\n",
    "print(gs.best_score_)\n",
    "print(gs.best_params_)\n",
    "\n",
    "clf = gs.best_estimator_\n",
    "clf.fit(X_train, y_train)\n",
    "print('Test accuracy: %.3f' % clf.score(X_test, y_test))"
   ]
  },
  {
   "cell_type": "markdown",
   "metadata": {},
   "source": [
    "\n",
    "# 自定义scorer\n",
    "\n",
    "利用make_scorer 自定义。\n",
    "\n",
    "```\n",
    "from sklearn.metrics import make_scorer\n",
    "scorer = make_scorer(f1_score, pos_label=0)\n",
    "scorer = make_scorer(score_func=precision_score, \n",
    "                         pos_label=1, \n",
    "                         greater_is_better=True, \n",
    "                         average='micro')\n",
    "gs = GridSearchCV(estimator=pipe_svc,\n",
    "                  param_grid=param_grid,\n",
    "                  scoring=scorer,\n",
    "                  cv=10,\n",
    "                  n_jobs=-1)\n",
    "```\n",
    "\n"
   ]
  },
  {
   "cell_type": "code",
   "execution_count": null,
   "metadata": {},
   "outputs": [],
   "source": []
  },
  {
   "cell_type": "markdown",
   "metadata": {},
   "source": [
    "# mlxtend plot\n",
    "\n",
    "## 数据类别可视化\n",
    "\n",
    "有助于快速观察类别分布"
   ]
  },
  {
   "cell_type": "code",
   "execution_count": 6,
   "metadata": {},
   "outputs": [
    {
     "data": {
      "image/png": "[encoded data removed]",
      "text/plain": [
       "<Figure size 432x288 with 1 Axes>"
      ]
     },
     "metadata": {
      "needs_background": "light"
     },
     "output_type": "display_data"
    }
   ],
   "source": [
    "import pandas as pd\n",
    "import numpy as np\n",
    "from sklearn import datasets\n",
    "import matplotlib.pyplot as plt\n",
    "from mlxtend.plotting import category_scatter\n",
    "\n",
    "iris = datasets.load_iris()\n",
    "# convert iris to df\n",
    "df = pd.DataFrame(data= np.c_[iris['data'], iris['target']],\n",
    "                  columns= iris['feature_names'] + ['target'])\n",
    "fig = category_scatter(x=2, y=3, label_col=4, \n",
    "                       data=df.values, legend_loc='upper left')"
   ]
  },
  {
   "cell_type": "markdown",
   "metadata": {},
   "source": [
    "## 决策区域可视化\n",
    "\n",
    "对于2D输入，可以直观看到。"
   ]
  },
  {
   "cell_type": "code",
   "execution_count": 8,
   "metadata": {},
   "outputs": [
    {
     "data": {
      "image/png": "[encoded data removed]",
      "text/plain": [
       "<Figure size 432x288 with 1 Axes>"
      ]
     },
     "metadata": {
      "needs_background": "light"
     },
     "output_type": "display_data"
    }
   ],
   "source": [
    "from mlxtend.plotting import plot_decision_regions\n",
    "import matplotlib.pyplot as plt\n",
    "from sklearn import datasets\n",
    "from sklearn.svm import SVC\n",
    "\n",
    "# Loading some example data\n",
    "iris = datasets.load_iris()\n",
    "X = iris.data[:, [0, 2]]\n",
    "y = iris.target\n",
    "\n",
    "# Training a classifier\n",
    "svm = SVC(C=0.5, kernel='linear')\n",
    "svm.fit(X, y)\n",
    "\n",
    "\n",
    "# Plotting decision regions\n",
    "plot_decision_regions(X, y, clf=svm, legend=2)\n",
    "\n",
    "# Adding axes annotations\n",
    "plt.xlabel('sepal length [cm]')\n",
    "plt.ylabel('petal length [cm]')\n",
    "plt.title('SVM on Iris')\n",
    "plt.show()"
   ]
  },
  {
   "cell_type": "markdown",
   "metadata": {},
   "source": [
    "# bagging 与voting 的关系是什么呢？\n",
    "\n",
    "可以测试一下bagging 与voting的关系是什么"
   ]
  },
  {
   "cell_type": "markdown",
   "metadata": {},
   "source": [
    "可以走通mlx的 决策图"
   ]
  },
  {
   "cell_type": "code",
   "execution_count": null,
   "metadata": {},
   "outputs": [],
   "source": []
  }
 ],
 "metadata": {
  "kernelspec": {
   "display_name": "Python 3",
   "language": "python",
   "name": "python3"
  },
  "language_info": {
   "codemirror_mode": {
    "name": "ipython",
    "version": 3
   },
   "file_extension": ".py",
   "mimetype": "text/x-python",
   "name": "python",
   "nbconvert_exporter": "python",
   "pygments_lexer": "ipython3",
   "version": "3.7.3"
  }
 },
 "nbformat": 4,
 "nbformat_minor": 2
}
