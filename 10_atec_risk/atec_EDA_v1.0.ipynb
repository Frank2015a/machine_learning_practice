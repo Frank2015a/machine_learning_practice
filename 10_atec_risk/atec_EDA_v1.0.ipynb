{
 "cells": [
  {
   "cell_type": "code",
   "execution_count": 123,
   "metadata": {},
   "outputs": [],
   "source": [
    "import pandas as pd\n",
    "import numpy as np\n",
    "import gc\n",
    "from dateutil.parser import parse  # 解析日期\n",
    "\n",
    "import os\n",
    "import matplotlib.pyplot as plt"
   ]
  },
  {
   "cell_type": "code",
   "execution_count": 124,
   "metadata": {},
   "outputs": [],
   "source": [
    "from tqdm import tqdm\n",
    "from multiprocessing import Pool"
   ]
  },
  {
   "cell_type": "code",
   "execution_count": 126,
   "metadata": {},
   "outputs": [
    {
     "name": "stdout",
     "output_type": "stream",
     "text": [
      "/nas/00_data\n"
     ]
    }
   ],
   "source": [
    "cd ../00_data/"
   ]
  },
  {
   "cell_type": "markdown",
   "metadata": {},
   "source": [
    "# utils "
   ]
  },
  {
   "cell_type": "code",
   "execution_count": 127,
   "metadata": {},
   "outputs": [],
   "source": [
    "# 每一种数据按对应的数据类型，压缩空间\n",
    "# 对各种数据类型分析很清楚\n",
    "def creatDtype():\n",
    "    dtype = {'id':'object',\n",
    "             'label':'int8',\n",
    "             'date':'int64',\n",
    "             'f1':'uint8',\n",
    "             'f2': 'uint8',\n",
    "             'f3': 'uint8',\n",
    "             'f4': 'uint8',\n",
    "             'f5': 'float32',\n",
    "             'ndays':'uint8'\n",
    "             }\n",
    "    for i in range(20,298):\n",
    "        dtype['f'+str(i)] = 'float32'\n",
    "    for i in range(6,20):\n",
    "        dtype['f'+str(i)] = 'uint8'\n",
    "    return dtype"
   ]
  },
  {
   "cell_type": "code",
   "execution_count": 83,
   "metadata": {},
   "outputs": [],
   "source": [
    "def get_col_null_rate(df, thres = 0.3):\n",
    "    # 计算输入的df中各col null的比例\n",
    "    # input  -- df of data\n",
    "    # output -- df index and null rate\n",
    "    info = pd.DataFrame()\n",
    "    info['isnull'] = df.isnull().sum()\n",
    "    info['null_ratio'] = info['isnull'] / df.shape[0]\n",
    "    info = info.sort_values(by = 'null_ratio', ascending=False)\n",
    "    info = info[info['null_ratio'] > thres]\n",
    "\n",
    "    return info"
   ]
  },
  {
   "cell_type": "markdown",
   "metadata": {},
   "source": [
    "# 数据读取"
   ]
  },
  {
   "cell_type": "code",
   "execution_count": 7,
   "metadata": {},
   "outputs": [],
   "source": [
    "train_data = pd.read_csv('atec_anti_fraud_train.csv',dtype=creatDtype())"
   ]
  },
  {
   "cell_type": "code",
   "execution_count": 8,
   "metadata": {},
   "outputs": [],
   "source": [
    "test_data = pd.read_csv('atec_anti_fraud_test_b.csv',dtype=creatDtype())"
   ]
  },
  {
   "cell_type": "code",
   "execution_count": 147,
   "metadata": {},
   "outputs": [
    {
     "name": "stdout",
     "output_type": "stream",
     "text": [
      "[20170905, 20170906, 20170907, 20170908, 20170909, 20170910, 20170911, 20170912, 20170913, 20170914, 20170915, 20170916, 20170917, 20170918, 20170919, 20170920, 20170921, 20170922, 20170923, 20170924, 20170925, 20170926, 20170927, 20170928, 20170929, 20170930, 20171001, 20171002, 20171003, 20171004, 20171005, 20171006, 20171007, 20171008, 20171009, 20171010, 20171011, 20171012, 20171013, 20171014, 20171015, 20171016, 20171017, 20171018, 20171019, 20171020, 20171021, 20171022, 20171023, 20171024, 20171025, 20171026, 20171027, 20171028, 20171029, 20171030, 20171031, 20171101, 20171102, 20171103, 20171104, 20171105]\n"
     ]
    }
   ],
   "source": [
    "print(sorted(train_data['date'].unique()))"
   ]
  },
  {
   "cell_type": "code",
   "execution_count": 148,
   "metadata": {},
   "outputs": [
    {
     "name": "stdout",
     "output_type": "stream",
     "text": [
      "[20180206, 20180207, 20180208, 20180209, 20180210, 20180211, 20180212, 20180213, 20180214, 20180215, 20180216, 20180217, 20180218, 20180219, 20180220, 20180221, 20180222, 20180223, 20180224, 20180225, 20180226, 20180227, 20180228, 20180301, 20180302, 20180303, 20180304, 20180305, 20180306]\n"
     ]
    }
   ],
   "source": [
    "print(sorted(test_data['date'].unique()))"
   ]
  },
  {
   "cell_type": "code",
   "execution_count": 128,
   "metadata": {},
   "outputs": [
    {
     "name": "stdout",
     "output_type": "stream",
     "text": [
      "unique date num of train set: 62\n",
      "unique date num of test set: 29\n"
     ]
    }
   ],
   "source": [
    "print('unique date num of train set: {}'.format(len(train_data['date'].unique())))\n",
    "print('unique date num of test set: {}'.format(len(test_data['date'].unique())))"
   ]
  },
  {
   "cell_type": "code",
   "execution_count": 129,
   "metadata": {},
   "outputs": [],
   "source": [
    "train_data['ndays'] = train_data['date'].apply(lambda x:(parse(str(x))-parse(str(20170905))).days)"
   ]
  },
  {
   "cell_type": "code",
   "execution_count": 130,
   "metadata": {},
   "outputs": [],
   "source": [
    "test_data['ndays'] = test_data['date'].apply(lambda x:(parse(str(x))-parse(str(20170905))).days)"
   ]
  },
  {
   "cell_type": "markdown",
   "metadata": {},
   "source": [
    "# 特征的缺失率分析\n",
    "\n",
    "分析可以看出：\n",
    "\n",
    "- 测试集中高缺失率的特征比训练集中更多\n",
    "- 测试集高缺失率的特征集合包含训练集中高缺失率集合，总共127"
   ]
  },
  {
   "cell_type": "code",
   "execution_count": 133,
   "metadata": {},
   "outputs": [],
   "source": [
    "# 分别统计训练和测试集的特征缺失率，阈值0.3\n",
    "train_null_cols = get_col_null_rate(train_data, thres=0.3)\n",
    "train_null_cols = list(train_null_cols.index)\n",
    "test_null_cols = get_col_null_rate(test_data, thres=0.3)\n",
    "test_null_cols = list(test_null_cols.index)"
   ]
  },
  {
   "cell_type": "code",
   "execution_count": 149,
   "metadata": {},
   "outputs": [],
   "source": [
    "train_null_cols2 = get_col_null_rate(train_data, thres=0.3)"
   ]
  },
  {
   "cell_type": "code",
   "execution_count": 153,
   "metadata": {},
   "outputs": [],
   "source": [
    "# train_null_cols2"
   ]
  },
  {
   "cell_type": "code",
   "execution_count": 134,
   "metadata": {},
   "outputs": [
    {
     "name": "stdout",
     "output_type": "stream",
     "text": [
      "train set null rate>0.3 cols: 30\n",
      "test set null rate>0.3 cols: 127\n"
     ]
    }
   ],
   "source": [
    "print('train set null rate>0.3 cols: {}'.format(len(train_null_cols)))\n",
    "print('test set null rate>0.3 cols: {}'.format(len(test_null_cols)))"
   ]
  },
  {
   "cell_type": "code",
   "execution_count": 136,
   "metadata": {},
   "outputs": [
    {
     "name": "stdout",
     "output_type": "stream",
     "text": [
      "train + test set null rate>0.3 cols: 127\n"
     ]
    }
   ],
   "source": [
    "null_all_cols = set(test_null_cols + test_null_cols)\n",
    "print('train + test set null rate>0.3 cols: {}'.format(len(null_all_cols)))"
   ]
  },
  {
   "cell_type": "code",
   "execution_count": 138,
   "metadata": {},
   "outputs": [
    {
     "name": "stdout",
     "output_type": "stream",
     "text": [
      "['f100', 'f101', 'f102', 'f103', 'f104', 'f105', 'f106', 'f107', 'f108', 'f109', 'f110', 'f111', 'f112', 'f113', 'f114', 'f115', 'f116', 'f117', 'f118', 'f119', 'f120', 'f121', 'f122', 'f123', 'f124', 'f125', 'f126', 'f127', 'f128', 'f129', 'f130', 'f131', 'f132', 'f133', 'f134', 'f135', 'f136', 'f137', 'f138', 'f139', 'f140', 'f141', 'f142', 'f143', 'f144', 'f145', 'f146', 'f147', 'f148', 'f149', 'f150', 'f151', 'f152', 'f153', 'f154', 'f155', 'f156', 'f157', 'f158', 'f159', 'f160', 'f32', 'f33', 'f34', 'f35', 'f36', 'f37', 'f38', 'f39', 'f40', 'f41', 'f42', 'f43', 'f44', 'f45', 'f46', 'f47', 'f48', 'f49', 'f50', 'f51', 'f54', 'f55', 'f56', 'f57', 'f58', 'f59', 'f60', 'f61', 'f62', 'f63', 'f64', 'f65', 'f66', 'f67', 'f68', 'f69', 'f70', 'f71', 'f72', 'f73', 'f74', 'f75', 'f76', 'f77', 'f78', 'f79', 'f80', 'f81', 'f82', 'f83', 'f84', 'f85', 'f86', 'f87', 'f88', 'f89', 'f90', 'f91', 'f92', 'f93', 'f94', 'f95', 'f96', 'f97', 'f98', 'f99']\n"
     ]
    }
   ],
   "source": [
    "print(sorted(null_all_cols))"
   ]
  },
  {
   "cell_type": "markdown",
   "metadata": {},
   "source": [
    "# EDA"
   ]
  },
  {
   "cell_type": "code",
   "execution_count": 28,
   "metadata": {},
   "outputs": [],
   "source": [
    "data = train_data.append(test_data)"
   ]
  },
  {
   "cell_type": "code",
   "execution_count": 139,
   "metadata": {},
   "outputs": [
    {
     "name": "stdout",
     "output_type": "stream",
     "text": [
      "train+test data set shape: (1495269, 301)\n"
     ]
    }
   ],
   "source": [
    "print('train+test data set shape: {}'.format(data.shape))"
   ]
  },
  {
   "cell_type": "markdown",
   "metadata": {},
   "source": [
    "## 从缺失率的角度分析数据的稳定性"
   ]
  },
  {
   "cell_type": "code",
   "execution_count": 140,
   "metadata": {},
   "outputs": [],
   "source": [
    "def draw_feature_debug(p):\n",
    "    # p = 'f24'\n",
    "    # 计算一个fe 在每天的数据缺失率\n",
    "    miss_rate = pd.DataFrame(data.groupby('ndays')[p].apply(lambda x: sum(pd.isnull(x))) / data.groupby('ndays')['ndays'].count()).reset_index()\n",
    "    miss_rate.columns = ['ndays', p]\n",
    "    # 一个fe在每天的分组\n",
    "    value_dist = pd.DataFrame(data.groupby('ndays')[p].mean()).reset_index()\n",
    "\n",
    "    plt.figure(figsize=(10,4),dpi=98)\n",
    "    p1 = plt.subplot(121)\n",
    "    p2 = plt.subplot(122)\n",
    "\n",
    "    # 特征缺失率的变化\n",
    "    p1.plot(miss_rate['ndays'], miss_rate[p])\n",
    "    p1.axvline(61, color='r')\n",
    "    p1.axvline(153, color='r')\n",
    "    p1.axhline(0.5, color='y')\n",
    "    p1.axis([0, 200, 0, 1])\n",
    "    p1.set_xlabel('ndays')\n",
    "    p1.set_ylabel('miss_rate_' + p)\n",
    "    p1.set_title('miss_rate_' + p)\n",
    "\n",
    "    # 特征数值的变化\n",
    "    p2.plot(value_dist['ndays'], value_dist[p])\n",
    "    p2.axvline(61, color='r')\n",
    "    p2.axvline(153, color='r')\n",
    "    p2.axhline(1, color='y')\n",
    "    p2.set_xlabel('ndays')\n",
    "    p2.set_ylabel('mean_of_' + p)\n",
    "    p2.set_title('distribution of ' + p)\n",
    "    plt.savefig('./debug/{}.jpg'.format(p))\n",
    "#     plt.show()\n",
    "    plt.close()    "
   ]
  },
  {
   "cell_type": "code",
   "execution_count": 141,
   "metadata": {},
   "outputs": [],
   "source": [
    "# draw_feature_debug('f24')"
   ]
  },
  {
   "cell_type": "code",
   "execution_count": 102,
   "metadata": {},
   "outputs": [],
   "source": [
    "fe_all = [fe for fe in data.columns if 'f' in fe]"
   ]
  },
  {
   "cell_type": "code",
   "execution_count": 102,
   "metadata": {},
   "outputs": [],
   "source": [
    "with Pool(32) as p:\n",
    "    list(tqdm(p.imap(draw_feature_debug, fe_all), total=len(fe_all)))"
   ]
  },
  {
   "cell_type": "code",
   "execution_count": 118,
   "metadata": {},
   "outputs": [],
   "source": [
    "# 凤凰电冰箱文章指定删除的特征\n",
    "need_del = ['f64','f65','f66','f67','f68','f69','f70','f71','f111','f112','f113','f114',\n",
    "            'f115','f116','f117','f118','f119','f120','f121','f122','f123','f124','f125',\n",
    "            'f126','f127','f128','f129','f130','f131','f132','f133','f134','f135','f136',\n",
    "            'f137','f138','f139','f140','f141','f142','f143','f144','f145','f146','f147',\n",
    "            'f148','f149','f150','f151','f152','f153','f154','f161','f162','f163','f164',\n",
    "            'f165','f211','f212','f213','f214','f215','f216','f217','f218','f219','f220',\n",
    "            'f221','f222','f223','f224','f225','f226','f227','f228','f229','f230','f231','f232','f233']\n",
    "for i in range(20,54):\n",
    "    need_del.append('f'+str(i))"
   ]
  },
  {
   "cell_type": "code",
   "execution_count": 164,
   "metadata": {},
   "outputs": [],
   "source": [
    "fe_del = list(null_all_cols)\n",
    "\n",
    "fe_del += ['f' + str(fe) for fe in range(20,28)]\n",
    "fe_del += ['f' + str(fe) for fe in range(161,165)]\n",
    "fe_del += ['f' + str(fe) for fe in range(211,234)]"
   ]
  },
  {
   "cell_type": "code",
   "execution_count": 171,
   "metadata": {},
   "outputs": [
    {
     "name": "stdout",
     "output_type": "stream",
     "text": [
      "fes to remove 162 \n"
     ]
    }
   ],
   "source": [
    "print('fes to remove {} '.format(len(fe_del)))"
   ]
  },
  {
   "cell_type": "code",
   "execution_count": null,
   "metadata": {},
   "outputs": [],
   "source": []
  }
 ],
 "metadata": {
  "kernelspec": {
   "display_name": "Python 3",
   "language": "python",
   "name": "python3"
  },
  "language_info": {
   "codemirror_mode": {
    "name": "ipython",
    "version": 3
   },
   "file_extension": ".py",
   "mimetype": "text/x-python",
   "name": "python",
   "nbconvert_exporter": "python",
   "pygments_lexer": "ipython3",
   "version": "3.6.3"
  }
 },
 "nbformat": 4,
 "nbformat_minor": 2
}
