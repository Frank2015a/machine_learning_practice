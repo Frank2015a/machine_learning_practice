{
 "cells": [
  {
   "cell_type": "markdown",
   "metadata": {},
   "source": [
    "# 0.引言\n",
    "\n",
    "异常检测的两类常用方法：\n",
    "\n",
    "- 基于概率分布的方法\n",
    "吴恩达机器学习课程，手动code\n",
    "- Isolation Forest\n",
    "周志华及其学生研究提出，已经有了sklearn实现\n",
    "\n",
    "数据集：电脑开机参数，包含两个特征 \n",
    "- 等待时间\n",
    "- CPU吞吐量\n",
    "\n",
    "本示例对比两种方法的异常检测效果。由于本示例数据较为简单，因此两种方法均可以达到F1=0.875，没有显著的区分。\n",
    "\n",
    "在实际应用中，Isolation Forest 不依赖于正态性假设和数据的连续性，可能会有更好的表现。"
   ]
  },
  {
   "cell_type": "code",
   "execution_count": 1,
   "metadata": {},
   "outputs": [],
   "source": [
    "import matplotlib.pyplot as plt\n",
    "import numpy as np\n",
    "import pandas as pd\n",
    "import scipy.io as scio  # 用于读取mat 数据\n",
    "from scipy import stats # 用于数据的正态性检验"
   ]
  },
  {
   "cell_type": "markdown",
   "metadata": {},
   "source": [
    "# 1. EDA\n",
    "\n",
    "训练数据为**无标签**的二维数据，验证集数据有标签y。"
   ]
  },
  {
   "cell_type": "code",
   "execution_count": 2,
   "metadata": {},
   "outputs": [],
   "source": [
    "data = scio.loadmat('ex8data1.mat')"
   ]
  },
  {
   "cell_type": "code",
   "execution_count": 3,
   "metadata": {},
   "outputs": [],
   "source": [
    "X = data['X']                    #训练集样本特征矩阵\n",
    "X_val = data['Xval']             #验证集样本特征矩阵\n",
    "y_val = data['yval'].flatten()   #验证集样本标签 异常/正常 "
   ]
  },
  {
   "cell_type": "code",
   "execution_count": 4,
   "metadata": {},
   "outputs": [
    {
     "name": "stdout",
     "output_type": "stream",
     "text": [
      "train set shape: (307, 2)\n",
      "val set shape: (307, 2)\n",
      "label of val set :\n",
      "0    298\n",
      "1      9\n",
      "dtype: int64\n"
     ]
    }
   ],
   "source": [
    "print('train set shape: {}'.format(X.shape))\n",
    "print('val set shape: {}'.format(X_val.shape))\n",
    "print('label of val set :\\n{}'.format(pd.value_counts(y_val)))"
   ]
  },
  {
   "cell_type": "markdown",
   "metadata": {},
   "source": [
    "## 1.1 正态性检验\n",
    "\n",
    "概率分布方法分析的基础是：特征的分布服从正态分布。\n",
    "检验方法：stats.shapiro\n",
    "\n",
    "- 原假设：数据符合正态分布\n",
    "- 接受假设的条件：\n",
    "    - 统计量W接近1\n",
    "    - 显著性水平（p-value）大于0.05\n",
    "    \n",
    "从训练集假设检验的结果并不完全满足正态分布。\n",
    "\n",
    "参考：\n",
    "\n",
    "- https://blog.csdn.net/QimaoRyan/article/details/72861387\n",
    "- https://docs.scipy.org/doc/scipy/reference/generated/scipy.stats.shapiro.html"
   ]
  },
  {
   "cell_type": "code",
   "execution_count": 5,
   "metadata": {},
   "outputs": [
    {
     "name": "stdout",
     "output_type": "stream",
     "text": [
      "norm test of X[:,0]:  (0.818209171295166, 2.788045548629635e-18)\n",
      "norm test of X[:,1]:  (0.7949155569076538, 2.2437695460625395e-19)\n"
     ]
    }
   ],
   "source": [
    "print('norm test of X[:,0]: ', stats.shapiro(X[:,0]))\n",
    "print('norm test of X[:,1]: ', stats.shapiro(X[:,1]))"
   ]
  },
  {
   "cell_type": "markdown",
   "metadata": {},
   "source": [
    "## 1.2 plot\n",
    "\n",
    "可以看出\n",
    "\n",
    "- 训练集中存在一些显著的离群异常点，没有标签，但从分布上可以清晰分辨\n",
    "- 验证集的数据分布与训练集类似。"
   ]
  },
  {
   "cell_type": "code",
   "execution_count": 6,
   "metadata": {},
   "outputs": [
    {
     "data": {
      "image/png": "[encoded data removed]",
      "text/plain": [
       "<Figure size 980x392 with 2 Axes>"
      ]
     },
     "metadata": {
      "needs_background": "light"
     },
     "output_type": "display_data"
    }
   ],
   "source": [
    "plt.figure(figsize=(10,4),dpi=98)\n",
    "p1 = plt.subplot(121)\n",
    "p2 = plt.subplot(122)\n",
    "\n",
    "p1.scatter(X[:, 0], X[:, 1], c='b', marker='x', s=15, linewidth=1)\n",
    "p1.axis([0, 30, 0, 30])\n",
    "p1.set_xlabel('Latency (ms)')      #x1等待时间\n",
    "p1.set_ylabel('Throughput (mb/s)') #x2吞吐量\n",
    "p1.set_title('train set')\n",
    "\n",
    "\n",
    "p2.scatter(X_val[y_val==1, 0], X_val[y_val==1, 1], c='r', marker='x', s=15, linewidth=1)\n",
    "p2.scatter(X_val[y_val==0, 0], X_val[y_val==0, 1], c='b', marker='x', s=15, linewidth=1)\n",
    "p2.axis([0, 30, 0, 30])\n",
    "p2.legend(['Nornal','Anornal'], loc='lower right')\n",
    "p2.set_xlabel('Latency (ms)')  #x1等待时间\n",
    "p2.set_ylabel('Throughput (mb/s)') #x2吞吐量\n",
    "p2.set_title('val set')\n",
    "\n",
    "plt.show()"
   ]
  },
  {
   "cell_type": "markdown",
   "metadata": {},
   "source": [
    "# 2. 概率分布异常检测方法\n",
    "\n",
    "参考：\n",
    "\n",
    "- https://blog.csdn.net/u013082989/article/details/53911514\n",
    "\n",
    "## 2.1 util"
   ]
  },
  {
   "cell_type": "code",
   "execution_count": 7,
   "metadata": {},
   "outputs": [],
   "source": [
    "def estimate_gaussian(X):\n",
    "    #对特征矩阵的每一列求均值和方差\n",
    "    mu=np.mean(X,axis=0)\n",
    "    sigma2=np.var(X,axis=0)\n",
    "    return mu, sigma2"
   ]
  },
  {
   "cell_type": "code",
   "execution_count": 8,
   "metadata": {},
   "outputs": [],
   "source": [
    "def multivariate_gaussian(X, mu, sigma2):\n",
    "    # 输入：样本，均值、方差\n",
    "    # 输出：每个样本的概率值\n",
    "    k = mu.size  #特征数\n",
    "    # 当协方差矩阵是对角矩阵时  单元高斯分布乘积和多元高斯分布是等价的\n",
    "    if sigma2.ndim == 1 or (sigma2.ndim == 2 and (sigma2.shape[1] == 1 or sigma2.shape[0] == 1)):\n",
    "        sigma2 = np.diag(sigma2) # 转换成对角矩阵\n",
    "    x = X - mu #对原始特征矩阵进行均值规范化\n",
    "    #此时单元高斯分布乘积和多元高斯分布是等价的  所以直接用多元高斯分布公式得到训练集的概率分布\n",
    "    p = (2 * np.pi) ** (-k / 2) * np.linalg.det(sigma2) ** (-0.5) * np.exp(-0.5*np.sum(np.dot(x, np.linalg.pinv(sigma2)) * x, axis=1))\n",
    "    return p"
   ]
  },
  {
   "cell_type": "code",
   "execution_count": 9,
   "metadata": {},
   "outputs": [],
   "source": [
    "#可视化训练集的概率分布  画出等高线图\n",
    "def visualize_fit(X, mu, sigma2):\n",
    "    grid = np.arange(0, 35.5, 0.5) #生成网格点\n",
    "    x1, x2 = np.meshgrid(grid, grid)\n",
    "\n",
    "    Z = multivariate_gaussian(np.c_[x1.flatten('F'), x2.flatten('F')], mu, sigma2) #得到每个网格点的概率\n",
    "    Z = Z.reshape(x1.shape, order='F') \n",
    "\n",
    "    plt.figure() #画出训练集样本\n",
    "    plt.scatter(X[:, 0], X[:, 1], marker='x', c='b', s=15, linewidth=1)\n",
    "\n",
    "    if np.sum(np.isinf(X)) == 0:  #画出训练集概率分布的等高线图\n",
    "        lvls = 10 ** np.arange(-20, 0, 3).astype(np.float)\n",
    "        plt.contour(x1, x2, Z, levels=lvls, colors='r', linewidths=0.7)"
   ]
  },
  {
   "cell_type": "code",
   "execution_count": 10,
   "metadata": {},
   "outputs": [],
   "source": [
    "def select_threshold(y_val, p_val):\n",
    "    # 依次尝试不同的阈值，搜索使指标F1最大的阈值\n",
    "    f1 = 0 #f1-score\n",
    "    best_eps = 0  #最好的阈值参数\n",
    "    best_f1 = 0 #最好的阈值参数对应的f1-score\n",
    "    y=np.zeros(y_val.size) #存放预测值\n",
    "    for epsilon in np.linspace(np.min(p_val), np.max(p_val), num=1001): #尝试不同的阈值\n",
    "        #y=1 异常 ；y=0正常\n",
    "        y[p_val<epsilon]=1  #预测为异常的样本\n",
    "        tp=np.sum([y_val[x] for x in range(len(y)) if y[x]])  #true positive\n",
    "        precision=tp/np.sum(y) #查准率\n",
    "        recall=tp/np.sum(y_val)   #召回率\n",
    "        \n",
    "        f1=2*precision*recall/(precision+recall)  #f1-score\n",
    "\n",
    "        if f1 > best_f1: #得到对应最高f1-score的阈值\n",
    "            best_f1 = f1\n",
    "            best_eps = epsilon\n",
    "        y=np.zeros(y_val.size)\n",
    "\n",
    "    return best_eps, best_f1"
   ]
  },
  {
   "cell_type": "markdown",
   "metadata": {},
   "source": [
    "## 2.2 概率模型训练\n",
    "\n",
    "概率模型实际上没有训练的过程，只需要计算出各个样本点的统计量。\n",
    "\n",
    "注意此处计算的是各个样本的在二维数据集上的概率密度值，最大不超过0.1"
   ]
  },
  {
   "cell_type": "code",
   "execution_count": 11,
   "metadata": {},
   "outputs": [],
   "source": [
    "# 参数估计 计算每个特征的均值和方差\n",
    "mu, sigma2 = estimate_gaussian(X)"
   ]
  },
  {
   "cell_type": "code",
   "execution_count": 12,
   "metadata": {},
   "outputs": [],
   "source": [
    "# 基于单元高斯分布得到训练集的概率分布\n",
    "p = multivariate_gaussian(X, mu, sigma2)"
   ]
  },
  {
   "cell_type": "code",
   "execution_count": 13,
   "metadata": {},
   "outputs": [
    {
     "data": {
      "image/png": "[encoded data removed]",
      "text/plain": [
       "<Figure size 432x288 with 1 Axes>"
      ]
     },
     "metadata": {
      "needs_background": "light"
     },
     "output_type": "display_data"
    }
   ],
   "source": [
    "# 概率密度分布图\n",
    "plt.scatter(x=range(len(p)), y=p)\n",
    "plt.grid()\n",
    "plt.show()"
   ]
  },
  {
   "cell_type": "code",
   "execution_count": 14,
   "metadata": {},
   "outputs": [
    {
     "data": {
      "text/plain": [
       "Text(0,0.5,'Throughput (mb/s')"
      ]
     },
     "execution_count": 14,
     "metadata": {},
     "output_type": "execute_result"
    },
    {
     "data": {
      "image/png": "[encoded data removed]",
      "text/plain": [
       "<Figure size 432x288 with 1 Axes>"
      ]
     },
     "metadata": {
      "needs_background": "light"
     },
     "output_type": "display_data"
    }
   ],
   "source": [
    "#可视化训练集的概率分布  画出等高线图\n",
    "visualize_fit(X, mu, sigma2)\n",
    "plt.xlabel('Latency (ms)')\n",
    "plt.ylabel('Throughput (mb/s')"
   ]
  },
  {
   "cell_type": "markdown",
   "metadata": {},
   "source": [
    "## 2.3 验证集切分阈值\n",
    "\n",
    "概率统计方法，唯一的参数就是阈值，只需要用验证集就能切分，似乎训练集没有起到什么作用。"
   ]
  },
  {
   "cell_type": "code",
   "execution_count": 15,
   "metadata": {},
   "outputs": [],
   "source": [
    "p_val = multivariate_gaussian(X_val, mu, sigma2) #根据训练集的mu sigma2 得到验证集样本的概率"
   ]
  },
  {
   "cell_type": "code",
   "execution_count": 16,
   "metadata": {},
   "outputs": [
    {
     "name": "stdout",
     "output_type": "stream",
     "text": [
      "Best epsilon found using cross-validation: 8.9909e-05\n",
      "Best F1 on Cross Validation Set: 0.875000\n"
     ]
    },
    {
     "name": "stderr",
     "output_type": "stream",
     "text": [
      "C:\\ProgramData\\Anaconda3\\lib\\site-packages\\ipykernel_launcher.py:11: RuntimeWarning: invalid value encountered in double_scalars\n",
      "  # This is added back by InteractiveShellApp.init_path()\n"
     ]
    }
   ],
   "source": [
    "epsilon_0, f1_0 = select_threshold(y_val, p_val)     # 搜索选择合适的概率阈值\n",
    "print('Best epsilon found using cross-validation: {:0.4e}'.format(epsilon_0))\n",
    "print('Best F1 on Cross Validation Set: {:0.6f}'.format(f1_0))"
   ]
  },
  {
   "cell_type": "code",
   "execution_count": 17,
   "metadata": {},
   "outputs": [
    {
     "data": {
      "text/plain": [
       "Text(0.5,1,'Probability Abnormal Detection')"
      ]
     },
     "execution_count": 17,
     "metadata": {},
     "output_type": "execute_result"
    },
    {
     "data": {
      "image/png": "[encoded data removed]",
      "text/plain": [
       "<Figure size 576x432 with 1 Axes>"
      ]
     },
     "metadata": {
      "needs_background": "light"
     },
     "output_type": "display_data"
    }
   ],
   "source": [
    "plt.figure(figsize=(8,6))\n",
    "plt.axis([0, 30, 0, 30])\n",
    "plt.scatter(X_val[y_val==1, 0], X_val[y_val==1, 1], c='r', marker='x', s=15, linewidth=1)\n",
    "plt.scatter(X_val[y_val==0, 0], X_val[y_val==0, 1], c='b', marker='x', s=15, linewidth=1)\n",
    "plt.scatter(X_val[p_val < epsilon_0, 0], X_val[p_val < epsilon_0, 1], c='k', marker='o', s=15, linewidth=1, alpha=0.5)\n",
    "plt.legend(['Anornal','Normal','Detected'], loc='lower right')\n",
    "plt.title('Probability Abnormal Detection')"
   ]
  },
  {
   "cell_type": "code",
   "execution_count": 18,
   "metadata": {},
   "outputs": [
    {
     "name": "stdout",
     "output_type": "stream",
     "text": [
      "y_val中的检测出数量/异常值数量：7/9\n"
     ]
    }
   ],
   "source": [
    "n_anornal = sum(y_val==1)\n",
    "n_detected = sum(p_val < epsilon_0)\n",
    "print('y_val中的检测出数量/异常值数量：{}/{}'.format(n_detected,n_anornal))"
   ]
  },
  {
   "cell_type": "markdown",
   "metadata": {},
   "source": [
    "# 3.Isolation Forrest\n",
    "\n",
    "参考：\n",
    "\n",
    "- https://scikit-learn.org/stable/modules/generated/sklearn.ensemble.IsolationForest.html#sklearn.ensemble.IsolationForest.decision_function\n",
    "- https://www.jianshu.com/p/1b020e2605e2\n",
    "- http://www.cnblogs.com/fengfenggirl/p/iForest.html\n",
    "\n",
    "\n",
    "## 3.1 孤立森林建模"
   ]
  },
  {
   "cell_type": "code",
   "execution_count": 19,
   "metadata": {},
   "outputs": [
    {
     "name": "stderr",
     "output_type": "stream",
     "text": [
      "C:\\ProgramData\\Anaconda3\\lib\\site-packages\\sklearn\\ensemble\\weight_boosting.py:29: DeprecationWarning: numpy.core.umath_tests is an internal NumPy module and should not be imported. It will be removed in a future NumPy release.\n",
      "  from numpy.core.umath_tests import inner1d\n"
     ]
    }
   ],
   "source": [
    "from sklearn.ensemble import IsolationForest"
   ]
  },
  {
   "cell_type": "code",
   "execution_count": 20,
   "metadata": {},
   "outputs": [],
   "source": [
    "# 需要调的参数主要是 树的棵树\n",
    "isf = IsolationForest(n_estimators=10,\n",
    "                      n_jobs=-1,          # 使用全部cpu\n",
    "                      verbose=2,\n",
    "                     )"
   ]
  },
  {
   "cell_type": "code",
   "execution_count": 21,
   "metadata": {},
   "outputs": [
    {
     "name": "stderr",
     "output_type": "stream",
     "text": [
      "[Parallel(n_jobs=8)]: Done   3 out of   8 | elapsed:    8.1s remaining:   13.6s\n",
      "[Parallel(n_jobs=8)]: Done   8 out of   8 | elapsed:   14.0s remaining:    0.0s\n",
      "[Parallel(n_jobs=8)]: Done   8 out of   8 | elapsed:   14.0s finished\n",
      "C:\\ProgramData\\Anaconda3\\lib\\site-packages\\scipy\\stats\\stats.py:1713: FutureWarning: Using a non-tuple sequence for multidimensional indexing is deprecated; use `arr[tuple(seq)]` instead of `arr[seq]`. In the future this will be interpreted as an array index, `arr[np.array(seq)]`, which will result either in an error or a different result.\n",
      "  return np.add.reduce(sorted[indexer] * weights, axis=axis) / sumval\n"
     ]
    },
    {
     "data": {
      "text/plain": [
       "IsolationForest(bootstrap=False, contamination=0.1, max_features=1.0,\n",
       "        max_samples='auto', n_estimators=10, n_jobs=-1, random_state=None,\n",
       "        verbose=2)"
      ]
     },
     "execution_count": 21,
     "metadata": {},
     "output_type": "execute_result"
    }
   ],
   "source": [
    "isf.fit(X) # 直接用无标签数据训练"
   ]
  },
  {
   "cell_type": "markdown",
   "metadata": {},
   "source": [
    "## 3.2 模型评价"
   ]
  },
  {
   "cell_type": "code",
   "execution_count": 22,
   "metadata": {},
   "outputs": [],
   "source": [
    "y_pred = isf.predict(X_val) # 直接评估测试集，不需要指定阈值"
   ]
  },
  {
   "cell_type": "code",
   "execution_count": 23,
   "metadata": {},
   "outputs": [
    {
     "name": "stdout",
     "output_type": "stream",
     "text": [
      "Isolation Forrest prediction:\n",
      " 1    278\n",
      "-1     29\n",
      "dtype: int64\n"
     ]
    }
   ],
   "source": [
    "# Isolation Forrest直接给出的异常检测值，无监督，不直接用\n",
    "print('Isolation Forrest prediction:')\n",
    "print(pd.value_counts(y_pred))"
   ]
  },
  {
   "cell_type": "code",
   "execution_count": 24,
   "metadata": {},
   "outputs": [
    {
     "name": "stderr",
     "output_type": "stream",
     "text": [
      "C:\\ProgramData\\Anaconda3\\lib\\site-packages\\ipykernel_launcher.py:11: RuntimeWarning: invalid value encountered in double_scalars\n",
      "  # This is added back by InteractiveShellApp.init_path()\n"
     ]
    }
   ],
   "source": [
    "# 通过decision_function获取异常系数值，可以理解为异常概率,选择一个最好的阈值\n",
    "y_val_prob = isf.decision_function(X_val)\n",
    "epsilon_1, f1_1 = select_threshold(y_val, y_val_prob)"
   ]
  },
  {
   "cell_type": "code",
   "execution_count": 25,
   "metadata": {},
   "outputs": [
    {
     "name": "stdout",
     "output_type": "stream",
     "text": [
      "Best epsilon found using cross-validation: -6.2384e-02\n",
      "Best F1 on Cross Validation Set: 0.823529\n"
     ]
    }
   ],
   "source": [
    "#验证程序正确性\n",
    "print('Best epsilon found using cross-validation: {:0.4e}'.format(epsilon_1))\n",
    "print('Best F1 on Cross Validation Set: {:0.6f}'.format(f1_1))"
   ]
  },
  {
   "cell_type": "code",
   "execution_count": 26,
   "metadata": {},
   "outputs": [
    {
     "name": "stdout",
     "output_type": "stream",
     "text": [
      "y_val中的检测出数量/异常值数量：8/9\n"
     ]
    }
   ],
   "source": [
    "n_anornal = sum(y_val==1)\n",
    "n_detected = sum(y_val_prob < epsilon_1)\n",
    "print('y_val中的检测出数量/异常值数量：{}/{}'.format(n_detected,n_anornal))"
   ]
  },
  {
   "cell_type": "code",
   "execution_count": 27,
   "metadata": {},
   "outputs": [
    {
     "data": {
      "text/plain": [
       "Text(0.5,1,'Isolation Forrest Detecton')"
      ]
     },
     "execution_count": 27,
     "metadata": {},
     "output_type": "execute_result"
    },
    {
     "data": {
      "image/png": "[encoded data removed]",
      "text/plain": [
       "<Figure size 576x432 with 1 Axes>"
      ]
     },
     "metadata": {
      "needs_background": "light"
     },
     "output_type": "display_data"
    }
   ],
   "source": [
    "plt.figure(figsize=(8,6))\n",
    "plt.axis([0, 30, 0, 30])\n",
    "plt.scatter(X_val[y_val==1, 0], X_val[y_val==1, 1], c='r', marker='x', s=15, linewidth=1)\n",
    "plt.scatter(X_val[y_val==0, 0], X_val[y_val==0, 1], c='b', marker='x', s=15, linewidth=1)\n",
    "plt.scatter(X_val[y_val_prob < epsilon_1, 0], X_val[y_val_prob < epsilon_1, 1], c='k', marker='o', s=15, linewidth=1, alpha=0.5)\n",
    "plt.legend(['Anornal','Normal','Detected'], loc='lower right')\n",
    "plt.title('Isolation Forrest Detecton')"
   ]
  }
 ],
 "metadata": {
  "kernelspec": {
   "display_name": "Python 3",
   "language": "python",
   "name": "python3"
  },
  "language_info": {
   "codemirror_mode": {
    "name": "ipython",
    "version": 3
   },
   "file_extension": ".py",
   "mimetype": "text/x-python",
   "name": "python",
   "nbconvert_exporter": "python",
   "pygments_lexer": "ipython3",
   "version": "3.7.0"
  }
 },
 "nbformat": 4,
 "nbformat_minor": 2
}
